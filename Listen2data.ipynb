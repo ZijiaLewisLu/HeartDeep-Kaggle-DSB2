{
 "cells": [
  {
   "cell_type": "markdown",
   "metadata": {},
   "source": [
    "# Build Dataset to compare data\n",
    "- To read in \n",
    "    - file name\n",
    "    - Series\n",
    "    - #num\n",
    "    - StudyTime\n",
    "    - SliceLocation"
   ]
  },
  {
   "cell_type": "code",
   "execution_count": 75,
   "metadata": {
    "collapsed": false
   },
   "outputs": [
    {
     "name": "stdout",
     "output_type": "stream",
     "text": [
      "/Users/ZijiaLu/Desktop/challenge_validation/SC-HF-I-5\n"
     ]
    }
   ],
   "source": [
    "import dicom as dm\n",
    "import pandas as pd\n",
    "import numpy as np\n",
    "import os, re\n",
    "print os.getcwd()\n",
    "reg = 'IM-(\\d{4})-(\\d{4}).dcm'"
   ]
  },
  {
   "cell_type": "code",
   "execution_count": 48,
   "metadata": {
    "collapsed": true
   },
   "outputs": [],
   "source": [
    "colms = ['name','serie','idx','time','location']\n",
    "dsets = pd.DataFrame(columns=colms)\n",
    "dsets['name'] = pd.Series(os.listdir('.')[2:-1])"
   ]
  },
  {
   "cell_type": "code",
   "execution_count": 49,
   "metadata": {
    "collapsed": true
   },
   "outputs": [
    {
     "name": "stdout",
     "output_type": "stream",
     "text": [
      "0 104550.000000 -36\n",
      "50 104550.000000 82.24186707\n",
      "100 104550.000000 66.24186707\n",
      "150 104550.000000 -44.69238663\n",
      "200 104550.000000 -61.98104477\n",
      "250 104550.000000 -73.50682068\n",
      "300 104550.000000 -90.79547882\n",
      "350 104550.000000 -32.52245331\n",
      "400 104550.000000 -189.7581329\n",
      "450 104550.000000 210.2418671\n",
      "500 104550.000000 194.2418671\n",
      "550 104550.000000 -73.50682831\n",
      "600 104550.000000 -56.21816254\n",
      "650 104550.000000 -67.74393463\n",
      "700 104550.000000 -85.03259277\n",
      "750 104550.000000 -61.9810524\n",
      "800 104550.000000 -29.341\n",
      "850 104550.000000 -87.257\n",
      "900 104550.000000 -56.534\n",
      "950 104550.000000 -72.648\n",
      "1000 104550.000000 -80.706\n",
      "1050 104550.000000 -96.82\n"
     ]
    }
   ],
   "source": [
    "#fill in other columns\n",
    "for idx in range(len(dsets['name'])):\n",
    "  match = re.search(reg,dsets['name'][idx])\n",
    "  dsets['serie'][idx] = match.group(1)\n",
    "  dsets['idx'][idx] = match.group(2)\n",
    "  \n",
    "  img = dm.read_file(dsets['name'][idx])\n",
    "  dsets['time'][idx] = img.StudyTime\n",
    "  dsets['location'][idx] = img.SliceLocation\n",
    "  \n",
    "#   if idx%50 ==0:\n",
    "#     print idx, img.StudyTime, img.SliceLocation\n",
    "dsets"
   ]
  },
  {
   "cell_type": "code",
   "execution_count": 52,
   "metadata": {
    "collapsed": true
   },
   "outputs": [],
   "source": [
    "file_name = os.getcwd().split('/')[-1]+'.csv'\n",
    "dsets.to_csv(file_name,index=False)"
   ]
  },
  {
   "cell_type": "code",
   "execution_count": 68,
   "metadata": {
    "collapsed": false
   },
   "outputs": [],
   "source": [
    "#count {all included depth:images on that depth} for each series\n",
    "all_s = set(dsets['serie'])\n",
    "s_img_no = {}\n",
    "for s in all_s:\n",
    "  s_img_no[s] = {}\n",
    "  \n",
    "s = dsets['serie'][0]\n",
    "pre_depth = int(dsets['serie'][0])\n",
    "dic = {pre_depth:0}\n",
    "for idx in range(1068):\n",
    "  depth = int(dsets['location'][idx])\n",
    "  \n",
    "  #if change to a new serie\n",
    "  if s != dsets['serie'][idx]:\n",
    "    s_img_no[s] = dic   \n",
    "    s = dsets['serie'][idx]\n",
    "    pre_depth = depth\n",
    "    dic = {pre_depth:0}\n",
    "  \n",
    "  #if change to a new depth\n",
    "  if pre_depth != depth:\n",
    "    dic[depth] = 0\n",
    "    pre_depth = depth\n",
    "  \n",
    "  #if the same series and the same depth\n",
    "  dic[depth] += 1\n",
    "\n",
    "s_img_no[s] = dic"
   ]
  },
  {
   "cell_type": "code",
   "execution_count": 79,
   "metadata": {
    "collapsed": false
   },
   "outputs": [
    {
     "name": "stdout",
     "output_type": "stream",
     "text": [
      ">>> 0154 -------------------- 16\n",
      "{0: 1, 48: 1, 66: 1, 36: 1, -56: 1, 12: 1, -20: 1, -18: 1, 16: 1, -6: 1, 18: 1, 30: 1, 154: 0, -36: 1, -38: 1, -2: 1}\n",
      ">>> 0155 -------------------- 52\n",
      "{2: 1, -125: 1, 10: 1, -117: 1, 130: 1, -21: 1, 18: 1, -109: 1, 154: 1, 26: 1, -101: 1, -93: 1, 34: 1, -165: 1, 210: 1, 42: 1, -85: 1, 178: 1, 50: 1, -77: 1, 202: 1, -173: 1, -69: 1, 138: 1, -45: 1, 66: 1, -189: 1, 194: 1, 74: 1, -181: 1, 162: 1, -53: 1, 82: 1, -157: 1, 186: 1, 90: 1, -37: 1, 58: 1, -61: 1, 98: 1, -29: 1, -197: 1, 106: 1, -149: 1, 146: 1, -5: 1, 114: 1, -141: 1, 122: 1, -133: 1, 170: 1, -13: 1}\n",
      ">>> 0156 -------------------- 11\n",
      "{-96: 20, -61: 20, -90: 20, -56: 20, -85: 20, -50: 20, -79: 20, -44: 20, -73: 20, -38: 20, -67: 20}\n",
      ">>> 0157 -------------------- 3\n",
      "{-32: 20, -17: 20, -25: 20}\n",
      ">>> 0158 -------------------- 52\n",
      "{2: 1, -125: 1, 10: 1, -117: 1, 130: 1, -21: 1, 18: 1, -109: 1, 154: 1, 26: 1, -101: 1, -93: 1, 34: 1, -165: 1, 210: 1, 42: 1, -85: 1, 178: 1, 50: 1, -77: 1, 202: 1, -173: 1, -69: 1, 138: 1, -45: 1, 66: 1, -189: 1, 194: 1, 74: 1, -181: 1, 162: 1, -53: 1, 82: 1, -157: 1, 186: 1, 90: 1, -37: 1, 58: 1, -61: 1, 98: 1, -29: 1, -197: 1, 106: 1, -149: 1, 146: 1, -5: 1, 114: 1, -141: 1, 122: 1, -133: 1, 170: 1, -13: 1}\n",
      ">>> 0159 -------------------- 2\n",
      "{57: 20, 52: 20}\n",
      ">>> 0160 -------------------- 1\n",
      "{-73: 20}\n",
      ">>> 0161 -------------------- 1\n",
      "{-73: 1}\n",
      ">>> 0162 -------------------- 1\n",
      "{-73: 1}\n",
      ">>> 0163 -------------------- 1\n",
      "{-73: 1}\n",
      ">>> 0164 -------------------- 1\n",
      "{-73: 1}\n",
      ">>> 0165 -------------------- 9\n",
      "{-96: 1, -61: 1, -90: 1, -56: 1, -85: 1, -50: 1, -79: 1, -73: 1, -67: 1}\n",
      ">>> 0166 -------------------- 8\n",
      "{-61: 20, -90: 20, -56: 20, -85: 20, -50: 20, -79: 20, -73: 20, -67: 20}\n",
      ">>> 0167 -------------------- 1\n",
      "{-61: 20}\n",
      ">>> 0168 -------------------- 1\n",
      "{66: 17}\n",
      ">>> 0169 -------------------- 1\n",
      "{-31: 17}\n",
      ">>> 0170 -------------------- 1\n",
      "{-29: 17}\n",
      ">>> 0171 -------------------- 1\n",
      "{-48: 17}\n",
      ">>> 0172 -------------------- 1\n",
      "{-67: 17}\n",
      ">>> 0173 -------------------- 1\n",
      "{-87: 17}\n",
      ">>> 0174 -------------------- 7\n",
      "{-64: 30, -80: 30, -96: 30, -56: 30, -48: 30, -88: 30, -72: 30}\n"
     ]
    }
   ],
   "source": [
    "for k in sorted(s_img_no.keys()):\n",
    "  print '>>>',k, '-'*20,len(s_img_no[k])\n",
    "  print s_img_no[k]"
   ]
  }
 ],
 "metadata": {
  "kernelspec": {
   "display_name": "Python 2",
   "language": "python",
   "name": "python2"
  },
  "language_info": {
   "codemirror_mode": {
    "name": "ipython",
    "version": 2
   },
   "file_extension": ".py",
   "mimetype": "text/x-python",
   "name": "python",
   "nbconvert_exporter": "python",
   "pygments_lexer": "ipython2",
   "version": "2.7.11"
  }
 },
 "nbformat": 4,
 "nbformat_minor": 0
}
