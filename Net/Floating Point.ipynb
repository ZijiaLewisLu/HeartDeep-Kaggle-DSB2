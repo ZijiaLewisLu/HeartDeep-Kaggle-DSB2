{
 "cells": [
  {
   "cell_type": "code",
   "execution_count": 1,
   "metadata": {
    "collapsed": true
   },
   "outputs": [],
   "source": [
    "import ipt\n",
    "import mxnet as mx\n",
    "from iou_layer import *"
   ]
  },
  {
   "cell_type": "markdown",
   "metadata": {},
   "source": [
    "## solving floating exception"
   ]
  },
  {
   "cell_type": "code",
   "execution_count": 2,
   "metadata": {
    "collapsed": false
   },
   "outputs": [
    {
     "name": "stderr",
     "output_type": "stream",
     "text": [
      "\u001b[32mI0612 16:03:25 4807 minpy.numpy.random:__init__:30]\u001b[0m Initialize module: minpy.numpy.random.\n",
      "\u001b[32mI0612 16:03:25 4807 minpy.numpy.random:__init__:38]\u001b[0m Importing from minpy.array_variants.numpy.random.\n",
      "\u001b[32mI0612 16:03:25 4807 minpy.numpy.random:__init__:45]\u001b[0m Got 53 primitives from minpy.array_variants.numpy.random\n",
      "\u001b[32mI0612 16:03:25 4807 minpy.numpy.random:__init__:38]\u001b[0m Importing from minpy.array_variants.mxnet.random.\n",
      "\u001b[32mI0612 16:03:25 4807 minpy.numpy.random:__init__:45]\u001b[0m Got 2 primitives from minpy.array_variants.mxnet.random\n",
      "\u001b[32mI0612 16:03:25 4807 minpy.numpy.random:__init__:50]\u001b[0m Import 55 primitives\n",
      "\u001b[32mI0612 16:03:25 4807 minpy.numpy:__init__:30]\u001b[0m Initialize module: minpy.numpy.\n",
      "\u001b[32mI0612 16:03:25 4807 minpy.numpy:__init__:38]\u001b[0m Importing from minpy.array_variants.numpy.\n",
      "\u001b[32mI0612 16:03:25 4807 minpy.numpy:__init__:45]\u001b[0m Got 396 primitives from minpy.array_variants.numpy\n",
      "\u001b[32mI0612 16:03:25 4807 minpy.numpy:__init__:38]\u001b[0m Importing from minpy.array_variants.mxnet.\n",
      "\u001b[32mI0612 16:03:25 4807 minpy.numpy:__init__:45]\u001b[0m Got 26 primitives from minpy.array_variants.mxnet\n",
      "\u001b[32mI0612 16:03:25 4807 minpy.numpy:__init__:50]\u001b[0m Import 422 primitives\n"
     ]
    }
   ],
   "source": [
    "import experi_net as e\n",
    "import numpy as np"
   ]
  },
  {
   "cell_type": "code",
   "execution_count": 3,
   "metadata": {
    "collapsed": false,
    "scrolled": true
   },
   "outputs": [],
   "source": [
    "import basic_right_shape as b"
   ]
  },
  {
   "cell_type": "code",
   "execution_count": null,
   "metadata": {
    "collapsed": false
   },
   "outputs": [],
   "source": [
    "def run(sym):\n",
    "    net = mx.sym.Custom(data = sym, name = 'softmax', op_type = 'iou')\n",
    "    img = np.ones((5,1,256,256))\n",
    "    shape = net.infer_shape(data = (5,1,256,256))[1][0]\n",
    "    print 'll shape', shape\n",
    "    ll = np.ones(shape)\n",
    "    \n",
    "    itr = mx.io.NDArrayIter(img, label = ll, batch_size = 1)\n",
    "    \n",
    "    mx.model.FeedForward.create(\n",
    "        net,\n",
    "        itr,\n",
    "        num_epoch = 5\n",
    "    )"
   ]
  },
  {
   "cell_type": "code",
   "execution_count": null,
   "metadata": {
    "collapsed": false,
    "scrolled": true
   },
   "outputs": [],
   "source": [
    "run(b.relu8)"
   ]
  },
  {
   "cell_type": "code",
   "execution_count": null,
   "metadata": {
    "collapsed": false
   },
   "outputs": [],
   "source": []
  },
  {
   "cell_type": "code",
   "execution_count": null,
   "metadata": {
    "collapsed": true
   },
   "outputs": [],
   "source": []
  }
 ],
 "metadata": {
  "kernelspec": {
   "display_name": "Python 2",
   "language": "python",
   "name": "python2"
  },
  "language_info": {
   "codemirror_mode": {
    "name": "ipython",
    "version": 2
   },
   "file_extension": ".py",
   "mimetype": "text/x-python",
   "name": "python",
   "nbconvert_exporter": "python",
   "pygments_lexer": "ipython2",
   "version": "2.7.6"
  }
 },
 "nbformat": 4,
 "nbformat_minor": 0
}
