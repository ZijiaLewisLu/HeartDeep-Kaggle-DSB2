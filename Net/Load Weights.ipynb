{
 "cells": [
  {
   "cell_type": "markdown",
   "metadata": {},
   "source": [
    "# Load weight from Keras"
   ]
  },
  {
   "cell_type": "code",
   "execution_count": 20,
   "metadata": {
    "collapsed": false
   },
   "outputs": [],
   "source": [
    "import h5py, numpy as np\n",
    "h5 = h5py.File('model2_weights.h5','r')\n",
    "import ipt\n",
    "import mxnet as mx"
   ]
  },
  {
   "cell_type": "code",
   "execution_count": null,
   "metadata": {
    "collapsed": true
   },
   "outputs": [],
   "source": [
    "dbs = h5.items()\n",
    "args = {}\n",
    "for i in dbs:\n",
    "    layer, idx=i[0].split('_')\n",
    "    \n",
    "    if layer == 'convolution2d' :\n",
    "        group = i[1]\n",
    "        param = group.items()\n",
    "    \n",
    "    elif layer == 'batchnormalization':\n",
    "        "
   ]
  },
  {
   "cell_type": "code",
   "execution_count": 16,
   "metadata": {
    "collapsed": false
   },
   "outputs": [
    {
     "name": "stdout",
     "output_type": "stream",
     "text": [
      "[(u'convolution2d_1_W:0', <HDF5 dataset \"convolution2d_1_W:0\": shape (8, 1, 7, 7), type \"<f4\">), (u'convolution2d_1_b:0', <HDF5 dataset \"convolution2d_1_b:0\": shape (8,), type \"<f4\">)]\n"
     ]
    }
   ],
   "source": [
    "conv1 = h5.get('convolution2d_1')\n",
    "content = conv1.items()\n",
    "print content\n",
    "\n",
    "conv1_weight = conv1.get('convolution2d_1_W:0')\n",
    "#print conv1_weight\n",
    "weight_array = np.array(conv1_weight)"
   ]
  },
  {
   "cell_type": "code",
   "execution_count": 17,
   "metadata": {
    "collapsed": false
   },
   "outputs": [
    {
     "name": "stdout",
     "output_type": "stream",
     "text": [
      "[(u'batchnormalization_1_beta:0', <HDF5 dataset \"batchnormalization_1_beta:0\": shape (250,), type \"<f4\">), (u'batchnormalization_1_gamma:0', <HDF5 dataset \"batchnormalization_1_gamma:0\": shape (250,), type \"<f4\">), (u'batchnormalization_1_running_mean:0', <HDF5 dataset \"batchnormalization_1_running_mean:0\": shape (250,), type \"<f4\">), (u'batchnormalization_1_running_std:0', <HDF5 dataset \"batchnormalization_1_running_std:0\": shape (250,), type \"<f4\">)]\n"
     ]
    }
   ],
   "source": [
    "bn  = h5.get('batchnormalization_1')\n",
    "print bn.items()"
   ]
  },
  {
   "cell_type": "code",
   "execution_count": 5,
   "metadata": {
    "collapsed": false
   },
   "outputs": [
    {
     "data": {
      "text/plain": [
       "[(u'activation_1', <HDF5 group \"/activation_1\" (0 members)>),\n",
       " (u'activation_10', <HDF5 group \"/activation_10\" (0 members)>),\n",
       " (u'activation_2', <HDF5 group \"/activation_2\" (0 members)>),\n",
       " (u'activation_3', <HDF5 group \"/activation_3\" (0 members)>),\n",
       " (u'activation_4', <HDF5 group \"/activation_4\" (0 members)>),\n",
       " (u'activation_5', <HDF5 group \"/activation_5\" (0 members)>),\n",
       " (u'activation_6', <HDF5 group \"/activation_6\" (0 members)>),\n",
       " (u'activation_7', <HDF5 group \"/activation_7\" (0 members)>),\n",
       " (u'activation_8', <HDF5 group \"/activation_8\" (0 members)>),\n",
       " (u'activation_9', <HDF5 group \"/activation_9\" (0 members)>),\n",
       " (u'batchnormalization_1', <HDF5 group \"/batchnormalization_1\" (4 members)>),\n",
       " (u'batchnormalization_10', <HDF5 group \"/batchnormalization_10\" (4 members)>),\n",
       " (u'batchnormalization_2', <HDF5 group \"/batchnormalization_2\" (4 members)>),\n",
       " (u'batchnormalization_3', <HDF5 group \"/batchnormalization_3\" (4 members)>),\n",
       " (u'batchnormalization_4', <HDF5 group \"/batchnormalization_4\" (4 members)>),\n",
       " (u'batchnormalization_5', <HDF5 group \"/batchnormalization_5\" (4 members)>),\n",
       " (u'batchnormalization_6', <HDF5 group \"/batchnormalization_6\" (4 members)>),\n",
       " (u'batchnormalization_7', <HDF5 group \"/batchnormalization_7\" (4 members)>),\n",
       " (u'batchnormalization_8', <HDF5 group \"/batchnormalization_8\" (4 members)>),\n",
       " (u'batchnormalization_9', <HDF5 group \"/batchnormalization_9\" (4 members)>),\n",
       " (u'convolution2d_1', <HDF5 group \"/convolution2d_1\" (2 members)>),\n",
       " (u'convolution2d_10', <HDF5 group \"/convolution2d_10\" (2 members)>),\n",
       " (u'convolution2d_11', <HDF5 group \"/convolution2d_11\" (2 members)>),\n",
       " (u'convolution2d_2', <HDF5 group \"/convolution2d_2\" (2 members)>),\n",
       " (u'convolution2d_3', <HDF5 group \"/convolution2d_3\" (2 members)>),\n",
       " (u'convolution2d_4', <HDF5 group \"/convolution2d_4\" (2 members)>),\n",
       " (u'convolution2d_5', <HDF5 group \"/convolution2d_5\" (2 members)>),\n",
       " (u'convolution2d_6', <HDF5 group \"/convolution2d_6\" (2 members)>),\n",
       " (u'convolution2d_7', <HDF5 group \"/convolution2d_7\" (2 members)>),\n",
       " (u'convolution2d_8', <HDF5 group \"/convolution2d_8\" (2 members)>),\n",
       " (u'convolution2d_9', <HDF5 group \"/convolution2d_9\" (2 members)>),\n",
       " (u'maxpooling2d_1', <HDF5 group \"/maxpooling2d_1\" (0 members)>),\n",
       " (u'maxpooling2d_2', <HDF5 group \"/maxpooling2d_2\" (0 members)>),\n",
       " (u'maxpooling2d_3', <HDF5 group \"/maxpooling2d_3\" (0 members)>),\n",
       " (u'upsampling2d_1', <HDF5 group \"/upsampling2d_1\" (0 members)>),\n",
       " (u'upsampling2d_2', <HDF5 group \"/upsampling2d_2\" (0 members)>),\n",
       " (u'upsampling2d_3', <HDF5 group \"/upsampling2d_3\" (0 members)>),\n",
       " (u'zeropadding2d_1', <HDF5 group \"/zeropadding2d_1\" (0 members)>),\n",
       " (u'zeropadding2d_2', <HDF5 group \"/zeropadding2d_2\" (0 members)>),\n",
       " (u'zeropadding2d_3', <HDF5 group \"/zeropadding2d_3\" (0 members)>),\n",
       " (u'zeropadding2d_4', <HDF5 group \"/zeropadding2d_4\" (0 members)>),\n",
       " (u'zeropadding2d_5', <HDF5 group \"/zeropadding2d_5\" (0 members)>)]"
      ]
     },
     "execution_count": 5,
     "metadata": {},
     "output_type": "execute_result"
    }
   ],
   "source": [
    "h5.items()"
   ]
  }
 ],
 "metadata": {
  "kernelspec": {
   "display_name": "Python 2",
   "language": "python",
   "name": "python2"
  },
  "language_info": {
   "codemirror_mode": {
    "name": "ipython",
    "version": 2
   },
   "file_extension": ".py",
   "mimetype": "text/x-python",
   "name": "python",
   "nbconvert_exporter": "python",
   "pygments_lexer": "ipython2",
   "version": "2.7.6"
  }
 },
 "nbformat": 4,
 "nbformat_minor": 0
}
