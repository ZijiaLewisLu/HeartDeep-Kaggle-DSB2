{
 "cells": [
  {
   "cell_type": "code",
   "execution_count": 1,
   "metadata": {
    "collapsed": true
   },
   "outputs": [],
   "source": [
    "pm= {\n",
    "            'c1':{\n",
    "                'fsize' : (7,7),\n",
    "                'fnum'  : 8,\n",
    "                'pad'   : (0,0),\n",
    "                'stride': (1,1),\n",
    "            },\n",
    "            'c2':{\n",
    "                'fsize' : (3,3),\n",
    "                'fnum'  : 16,\n",
    "                'pad'   : (0,0),\n",
    "                'stride': (1,1),\n",
    "            },\n",
    "            'c3':{\n",
    "                'fsize' : (3,3),\n",
    "                'fnum'  : 32,\n",
    "                'pad'   : (0,0),\n",
    "                'stride': (1,1)\n",
    "            },\n",
    "            'c4':{\n",
    "                'fsize' : (3,3),\n",
    "                'fnum'  : 64,\n",
    "                'pad'   : (0,0),\n",
    "                'stride': (1,1)\n",
    "            },\n",
    "            'c5':{\n",
    "                'fsize' : (3,3),\n",
    "                'fnum'  : 64,\n",
    "                'pad'   : (0,0),\n",
    "                'stride': (1,1)\n",
    "            },\n",
    "            'c6':{\n",
    "                'fsize' : (3,3),\n",
    "                'fnum'  : 64,\n",
    "                'pad'   : (2,2),\n",
    "                'stride': (1,1)\n",
    "            },\n",
    "            'c7':{\n",
    "                'fsize' : (3,3),\n",
    "                'fnum'  : 64,\n",
    "                'pad'   : (2,2),\n",
    "                'stride': (1,1)\n",
    "            },\n",
    "            'c8':{\n",
    "                'fsize' : (7,7),\n",
    "                'fnum'  : 64,\n",
    "                'pad'   : (6,6),\n",
    "                'stride': (1,1)\n",
    "            },\n",
    "            'c9':{\n",
    "                'fsize' : (3,3),\n",
    "                'fnum'  : 16,\n",
    "                'pad'   : (2,2),\n",
    "                'stride': (1,1)\n",
    "            },\n",
    "            'c10':{\n",
    "                'fsize' : (7,7),\n",
    "                'fnum'  : 8,\n",
    "                'pad'   : (0,0),\n",
    "                'stride': (1,1)\n",
    "            },\n",
    "            'c11':{\n",
    "                'fsize' : (7,7),\n",
    "                'fnum'  : 1,\n",
    "                'pad'   : (6,6),\n",
    "                'stride': (1,1)\n",
    "            }\n",
    "        }"
   ]
  },
  {
   "cell_type": "code",
   "execution_count": 12,
   "metadata": {
    "collapsed": true
   },
   "outputs": [],
   "source": [
    "import ipt\n",
    "import mxnet as mx\n",
    "import minpy as mp\n",
    "\n",
    "sz = (1,1,256,256)"
   ]
  },
  {
   "cell_type": "code",
   "execution_count": 8,
   "metadata": {
    "collapsed": true
   },
   "outputs": [],
   "source": [
    "data = mx.sym.Variable(name= 'data')  #name must be data, don't know why\n",
    "\n",
    "\n",
    "conv1 = mx.sym.Convolution(name = 'conv1', data = data, kernel = pm['c1']['fsize'], \n",
    "        num_filter = pm['c1']['fnum'], stride = pm['c1']['stride'], pad = pm['c1']['pad'] )\n",
    "relu1 = mx.sym.Activation(data = conv1, act_type = 'relu')\n",
    "conv2 = mx.sym.Convolution(name = 'conv2', data = relu1, kernel = pm['c2']['fsize'], \n",
    "    num_filter = pm['c2']['fnum'], stride = pm['c2']['stride'], pad = pm['c2']['pad'] )\n",
    "relu2 = mx.sym.Activation(data = conv2, act_type = 'relu')"
   ]
  },
  {
   "cell_type": "code",
   "execution_count": 15,
   "metadata": {
    "collapsed": false
   },
   "outputs": [
    {
     "data": {
      "text/plain": [
       "([(1L, 1L, 256L, 256L), (8L, 1L, 7L, 7L), (8L,), (16L, 8L, 3L, 3L), (16L,)],\n",
       " [(1L, 16L, 248L, 248L)],\n",
       " [])"
      ]
     },
     "execution_count": 15,
     "metadata": {},
     "output_type": "execute_result"
    }
   ],
   "source": [
    "relu2.infer_shape(data = sz)[]"
   ]
  },
  {
   "cell_type": "code",
   "execution_count": 29,
   "metadata": {
    "collapsed": true
   },
   "outputs": [],
   "source": [
    "pool1 = mx.sym.Pooling(data = relu2, pool_type = \"max\", kernel=(2,2), stride = (2,2))\n",
    "\n",
    "\n",
    "conv3 = mx.sym.Convolution(name = 'conv3', data = pool1, kernel = pm['c3']['fsize'], \n",
    "        num_filter = pm['c3']['fnum'], stride = pm['c3']['stride'], pad = pm['c3']['pad'] )\n",
    "relu3 = mx.sym.Activation(data = conv3, act_type = 'relu')\n",
    "pool2 = mx.sym.Pooling(data = relu3, pool_type = \"max\", kernel=(2,2), stride = (2,2))\n",
    "\n",
    "\n",
    "conv4 = mx.sym.Convolution(name = 'conv4', data = pool2, kernel = pm['c4']['fsize'], \n",
    "        num_filter = pm['c4']['fnum'], stride = pm['c4']['stride'], pad = pm['c4']['pad'] )\n",
    "relu4 = mx.sym.Activation(data = conv4, act_type = 'relu')\n",
    "pool3 = mx.sym.Pooling(data = relu4, pool_type = \"max\", kernel=(2,2), stride = (2,2))\n",
    "\n",
    "conv5 = mx.sym.Convolution(name = 'conv5', data = pool3, kernel = pm['c5']['fsize'], \n",
    "            num_filter = pm['c5']['fnum'], stride = pm['c5']['stride'], pad = pm['c5']['pad'] )\n",
    "relu5 = mx.sym.Activation(data = conv5, act_type = 'relu')\n",
    "conv6 = mx.sym.Convolution(name = 'conv6', data = relu5, kernel = pm['c6']['fsize'], \n",
    "    num_filter = pm['c6']['fnum'], stride = pm['c6']['stride'], pad = pm['c6']['pad'] )\n",
    "relu6 = mx.sym.Activation(data = conv6, act_type = 'relu')\n",
    "\n",
    "\n",
    "up1  = mx.sym.UpSampling(relu6, scale = 2, sample_type= 'bilinear', num_args = 1)\n",
    "\n",
    "\n",
    "conv7 = mx.sym.Convolution(name = 'conv7', data = up1, kernel = pm['c7']['fsize'], \n",
    "    num_filter = pm['c7']['fnum'], stride = pm['c7']['stride'], pad = pm['c7']['pad'] )\n",
    "relu7 = mx.sym.Activation(data = conv7, act_type = 'relu')\n",
    "\n",
    "up2  = mx.sym.UpSampling(relu7, scale = 2, sample_type = 'bilinear', num_args = 1)\n",
    "\n",
    "conv8 = mx.sym.Convolution(name = 'conv8', data = up2, kernel = pm['c8']['fsize'], \n",
    "    num_filter = pm['c8']['fnum'], stride = pm['c8']['stride'], pad = pm['c8']['pad'] )\n",
    "relu8 = mx.sym.Activation(data = conv8, act_type = 'relu')\n",
    "\n",
    "up3  = mx.sym.UpSampling(relu8, scale = 2, sample_type = 'bilinear', num_args = 1)\n",
    "\n",
    "\n",
    "conv9 = mx.sym.Convolution(name = 'conv9', data = up3, kernel = pm['c9']['fsize'], \n",
    "        num_filter = pm['c9']['fnum'], stride = pm['c9']['stride'], pad = pm['c9']['pad'] )\n",
    "relu9 = mx.sym.Activation(data = conv9, act_type = 'relu')\n",
    "conv10 = mx.sym.Convolution(name = 'conv10', data = relu9, kernel = pm['c10']['fsize'], \n",
    "    num_filter = pm['c10']['fnum'], stride = pm['c10']['stride'], pad = pm['c10']['pad'] )\n",
    "relu10 = mx.sym.Activation(data = conv10, act_type = 'relu')\n",
    "\n",
    "\n",
    "conv11 = mx.sym.Convolution(name = 'conv11', data = relu10, kernel = pm['c11']['fsize'], \n",
    "        num_filter = pm['c11']['fnum'], stride = pm['c11']['stride'], pad = pm['c11']['pad'] )"
   ]
  },
  {
   "cell_type": "code",
   "execution_count": 35,
   "metadata": {
    "collapsed": false
   },
   "outputs": [
    {
     "name": "stdout",
     "output_type": "stream",
     "text": [
      "([(1L, 1L, 256L, 256L), (8L, 1L, 7L, 7L), (8L,), (16L, 8L, 3L, 3L), (16L,), (32L, 16L, 3L, 3L), (32L,), (64L, 32L, 3L, 3L), (64L,), (64L, 64L, 3L, 3L), (64L,), (64L, 64L, 3L, 3L), (64L,), (64L, 1L, 4L, 4L), (64L, 64L, 3L, 3L), (64L,), (64L, 1L, 4L, 4L), (64L, 64L, 7L, 7L), (64L,), (64L, 1L, 4L, 4L), (16L, 64L, 3L, 3L), (16L,), (8L, 16L, 7L, 7L), (8L,)], [(1L, 8L, 256L, 256L)], [])\n"
     ]
    }
   ],
   "source": [
    "print conv10.infer_shape(data = sz)"
   ]
  },
  {
   "cell_type": "code",
   "execution_count": 39,
   "metadata": {
    "collapsed": false
   },
   "outputs": [
    {
     "ename": "AttributeError",
     "evalue": "'module' object has no attribute '_reduce'",
     "output_type": "error",
     "traceback": [
      "\u001b[1;31m---------------------------------------------------------------------------\u001b[0m",
      "\u001b[1;31mAttributeError\u001b[0m                            Traceback (most recent call last)",
      "\u001b[1;32m<ipython-input-39-d4e038265899>\u001b[0m in \u001b[0;36m<module>\u001b[1;34m()\u001b[0m\n\u001b[0;32m      2\u001b[0m \u001b[0ml\u001b[0m \u001b[1;33m=\u001b[0m \u001b[0mmx\u001b[0m\u001b[1;33m.\u001b[0m\u001b[0msym\u001b[0m\u001b[1;33m.\u001b[0m\u001b[0mVariable\u001b[0m\u001b[1;33m(\u001b[0m\u001b[0mname\u001b[0m \u001b[1;33m=\u001b[0m \u001b[1;34m'l'\u001b[0m\u001b[1;33m)\u001b[0m\u001b[1;33m\u001b[0m\u001b[0m\n\u001b[0;32m      3\u001b[0m \u001b[1;33m\u001b[0m\u001b[0m\n\u001b[1;32m----> 4\u001b[1;33m \u001b[0my\u001b[0m \u001b[1;33m=\u001b[0m \u001b[0mmx\u001b[0m\u001b[1;33m.\u001b[0m\u001b[0msymbol\u001b[0m\u001b[1;33m.\u001b[0m\u001b[0m_reduce\u001b[0m\u001b[1;33m(\u001b[0m\u001b[0mp\u001b[0m\u001b[1;33m+\u001b[0m\u001b[0ml\u001b[0m\u001b[1;33m,\u001b[0m \u001b[0maxis\u001b[0m\u001b[1;33m=\u001b[0m \u001b[1;36m0\u001b[0m\u001b[1;33m)\u001b[0m\u001b[1;33m\u001b[0m\u001b[0m\n\u001b[0m",
      "\u001b[1;31mAttributeError\u001b[0m: 'module' object has no attribute '_reduce'"
     ]
    }
   ],
   "source": [
    "p = mx.sym.Variable(name = 'p')\n",
    "l = mx.sym.Variable(name = 'l')\n",
    "\n",
    "y = mx.symbol._reduce(p+l, axis= 0)"
   ]
  },
  {
   "cell_type": "code",
   "execution_count": 47,
   "metadata": {
    "collapsed": false
   },
   "outputs": [
    {
     "data": {
      "text/plain": [
       "(1L, 3L, 25L)"
      ]
     },
     "execution_count": 47,
     "metadata": {},
     "output_type": "execute_result"
    }
   ],
   "source": [
    "a = mx.ndarray.ones((1,3,25))\n",
    "a.shape"
   ]
  },
  {
   "cell_type": "code",
   "execution_count": 49,
   "metadata": {
    "collapsed": false
   },
   "outputs": [
    {
     "name": "stdout",
     "output_type": "stream",
     "text": [
      "(1L,)\n"
     ]
    }
   ],
   "source": [
    "b = mx.ndarray.sum(a, axis = (1,2))\n",
    "print b.shape"
   ]
  },
  {
   "cell_type": "code",
   "execution_count": null,
   "metadata": {
    "collapsed": true
   },
   "outputs": [],
   "source": []
  }
 ],
 "metadata": {
  "kernelspec": {
   "display_name": "Python 2",
   "language": "python",
   "name": "python2"
  },
  "language_info": {
   "codemirror_mode": {
    "name": "ipython",
    "version": 2
   },
   "file_extension": ".py",
   "mimetype": "text/x-python",
   "name": "python",
   "nbconvert_exporter": "python",
   "pygments_lexer": "ipython2",
   "version": "2.7.6"
  }
 },
 "nbformat": 4,
 "nbformat_minor": 0
}
