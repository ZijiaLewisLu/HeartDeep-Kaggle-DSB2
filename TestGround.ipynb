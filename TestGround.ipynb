{
 "cells": [
  {
   "cell_type": "code",
   "execution_count": 2,
   "metadata": {
    "collapsed": false
   },
   "outputs": [
    {
     "name": "stdout",
     "output_type": "stream",
     "text": [
      "<8-11:18:53>TEST[E1] ['LOG.txt', 'SolverParam.json']\n",
      "<5-13:28:54>TEST[E40] ['LOG.txt', 'SolverParam.json']\n",
      "<5-22:22:55>TEST[E10] ['LOG.txt', 'SolverParam.json']\n",
      "<5-22:15:24>TEST[E10] ['LOG.txt', 'SolverParam.json']\n",
      "<5-22:14:30>TEST[E10] ['LOG.txt', 'SolverParam.json']\n",
      "<4-21:44:22>TEST[E10] ['LOG.txt', 'SolverParam.json']\n",
      "<5-22:08:51>TEST[E10] ['LOG.txt', 'SolverParam.json']\n",
      "<8-11:09:15>TEST[E1] ['LOG.txt', 'SolverParam.json']\n",
      "<8-19:53:46>[E10] ['LOG.txt', 'SolverParam.json']\n",
      "<6-22:17:08>TEST[E10] ['LOG.txt', 'SolverParam.json']\n",
      "<8-19:46:19>[E10] ['LOG.txt', 'SolverParam.json']\n",
      "<8-20:01:55>[E10] ['LOG.txt', 'SolverParam.json']\n",
      "<8-11:08:34>TEST[E1] ['LOG.txt', 'SolverParam.json']\n",
      "<8-11:34:18>TEST[E1] ['LOG.txt', 'SolverParam.json']\n",
      "<5-22:20:47>TEST[E10] ['LOG.txt', 'SolverParam.json']\n",
      "<6-20:10:00>TEST[E10] ['LOG.txt', 'SolverParam.json']\n",
      "<8-11:34:46>TEST[E1] ['LOG.txt', 'SolverParam.json']\n",
      "<6-20:09:01>TESTFromCnnMade[E10] ['LOG.txt', 'SolverParam.json']\n",
      "<5-22:10:37>TEST[E10] ['LOG.txt', 'SolverParam.json']\n",
      "<4-22:11:43>TEST[E10] ['LOG.txt', 'SolverParam.json']\n",
      "<5-22:11:12>TEST[E10] ['LOG.txt', 'SolverParam.json']\n",
      "<8-11:19:45>TEST[E1] ['LOG.txt', 'SolverParam.json']\n",
      "<5-13:24:26>TEST[E4] ['LOG.txt', 'SolverParam.json']\n",
      "<5-13:22:06>TESTRetrain[E40] ['LOG.txt', 'SolverParam.json']\n",
      "<5-14:39:41>TESTHighLR[E10] ['LOG.txt', 'SolverParam.json']\n",
      "<5-22:17:37>TEST[E10] ['LOG.txt', 'SolverParam.json']\n",
      "<5-22:08:11>TESTLOADCNN[E10] ['LOG.txt', 'SolverParam.json']\n",
      "<8-11:44:51>TEST[E1] ['LOG.txt', 'SolverParam.json']\n",
      "<8-11:37:36>TEST[E1] ['LOG.txt', 'SolverParam.json']\n",
      "<8-11:13:18>TEST[E1] ['LOG.txt', 'SolverParam.json']\n",
      "<4-22:32:49>TEST[E10] ['LOG.txt', 'SolverParam.json']\n",
      "<8-11:16:16>TEST[E1] ['LOG.txt', 'SolverParam.json']\n",
      "<8-11:32:53>TEST[E1] ['LOG.txt', 'SolverParam.json']\n",
      "<5-13:22:56>TEST[E4] ['LOG.txt', 'SolverParam.json']\n",
      "<8-11:43:54>TEST[E1] ['LOG.txt', 'SolverParam.json']\n",
      "<8-11:21:10>TEST[E1] ['LOG.txt', 'SolverParam.json']\n",
      "<4-21:41:21>TEST[E10] ['LOG.txt', 'SolverParam.json']\n",
      "<8-20:01:05>[E10] ['LOG.txt', 'SolverParam.json']\n",
      "<8-11:38:51>TEST[E1] ['LOG.txt', 'SolverParam.json']\n",
      "<6-12:20:58>TEST[E40] ['LOG.txt', 'SolverParam.json']\n",
      "Remove Above?Y\n",
      "Y\n"
     ]
    }
   ],
   "source": [
    "import os\n",
    "import shutil\n",
    "f= './RNN/Result/'\n",
    "for record in os.listdir(f):\n",
    "    to_rm = []\n",
    "    if record.startswith('<') and record.endswith(']') and 'save' not in record:\n",
    "        inter = os.path.join(f,record)\n",
    "        files = os.listdir(inter)\n",
    "        if len(files)==2:\n",
    "            print record, files\n",
    "            to_rm.append(inter)\n",
    "conform = raw_input('Remove Above?')\n",
    "print conform\n",
    "if conform in ['Y', 'Yes', \"YES\"]:\n",
    "    for rm in to_rm:\n",
    "        print 'rming'\n",
    "        shutil.rmtree(rm)"
   ]
  }
 ],
 "metadata": {
  "kernelspec": {
   "display_name": "Python 2",
   "language": "python",
   "name": "python2"
  },
  "language_info": {
   "codemirror_mode": {
    "name": "ipython",
    "version": 2
   },
   "file_extension": ".py",
   "mimetype": "text/x-python",
   "name": "python",
   "nbconvert_exporter": "python",
   "pygments_lexer": "ipython2",
   "version": "2.7.6"
  }
 },
 "nbformat": 4,
 "nbformat_minor": 0
}
