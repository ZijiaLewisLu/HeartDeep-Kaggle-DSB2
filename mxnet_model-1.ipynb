{
 "cells": [
  {
   "cell_type": "code",
   "execution_count": 1,
   "metadata": {
    "collapsed": false,
    "scrolled": false
   },
   "outputs": [],
   "source": [
    "import mxnet as mx\n",
    "import minpy as mp\n",
    "import numpy as np\n",
    "# import minpy.numpy.random as random\n",
    "# import minpy.core as core"
   ]
  },
  {
   "cell_type": "code",
   "execution_count": 7,
   "metadata": {
    "collapsed": false
   },
   "outputs": [],
   "source": [
    "data = mx.sym.Variable(name = 'X')\n",
    "net = mx.sym.Convolution(name = 'conv1', data=data, kernel=(5,5), num_filter=100,stride=(2,2),pad=(5,5))\n",
    "relu1 = mx.sym.Activation(name = 'relu1', data=data, act_type=\"relu\")\n",
    "\n",
    "source = mx.sym.Variable(\"data\")\n",
    "# ?\n",
    "# source = (source - 128) * (1.0/128)\n",
    "# frames = mx.sym.SliceChannel(source, num_outputs=30)\n",
    "# diffs = [frames[i+1] - frames[i] for i in range(29)]\n",
    "# source = mx.sym.Concat(*diffs)\n",
    "net = mx.sym.Convolution(source, kernel=(5,5), num_filter=100, stride=(2,2), pad=(5,5))\n",
    "net = mx.sym.Activation(net, name='relu1', act_type='relu')\n",
    "net = mx.sym.Pooling(net, pool_type=\"max\", kernel=(2,2), stride=(2,2))\n",
    "net = mx.sym.Convolution(net, kernel=(5,5), num_filter=200, stride=(2,2), pad=(0,0))\n",
    "net = mx.sym.Pooling(net, pool_type=\"max\", kernel=(2,2), stride=(2,2))\n",
    "net = mx.sym.Convolution(net, kernel=(3,3), num_filter=300, stride=(1,1), pad=(0,0))\n",
    "net = mx.sym.Convolution(net, kernel=(3,3), num_filter=300, stride=(1,1), pad=(0,0))\n",
    "net = mx.sym.Dropout(net, p=0.1)\n",
    "net = mx.sym.Convolution(net, kernel=(1,1), num_filter=2, stride=(1,1), pad=(0,0))\n",
    "net = mx.sym.Deconvolution(net, kernel=(31,31),num_filter=2,stride=(16,16),pad=(8,8))\n",
    "# net = mx.sym.Crop(net, ...)"
   ]
  },
  {
   "cell_type": "code",
   "execution_count": 5,
   "metadata": {
    "collapsed": false
   },
   "outputs": [
    {
     "ename": "NameError",
     "evalue": "name 'mx' is not defined",
     "output_type": "error",
     "traceback": [
      "\u001b[0;31m---------------------------------------------------------------------------\u001b[0m",
      "\u001b[0;31mNameError\u001b[0m                                 Traceback (most recent call last)",
      "\u001b[0;32m<ipython-input-5-06c5ee8c8626>\u001b[0m in \u001b[0;36m<module>\u001b[0;34m()\u001b[0m\n\u001b[0;32m----> 1\u001b[0;31m \u001b[0mm\u001b[0m \u001b[0;34m=\u001b[0m \u001b[0mmx\u001b[0m\u001b[0;34m.\u001b[0m\u001b[0mmodel\u001b[0m\u001b[0;34m.\u001b[0m\u001b[0mFeedForward\u001b[0m\u001b[0;34m(\u001b[0m\u001b[0mnet\u001b[0m\u001b[0;34m)\u001b[0m\u001b[0;31m#name\u001b[0m\u001b[0;34m\u001b[0m\u001b[0m\n\u001b[0m",
      "\u001b[0;31mNameError\u001b[0m: name 'mx' is not defined"
     ]
    }
   ],
   "source": [
    "m = mx.model.FeedForward(net)#name"
   ]
  },
  {
   "cell_type": "code",
   "execution_count": 8,
   "metadata": {
    "collapsed": false
   },
   "outputs": [
    {
     "name": "stdout",
     "output_type": "stream",
     "text": [
      "FeedForward(allow_extra_params=False, arg_params=None, aux_params=None,\n",
      "      begin_epoch=0, ctx=[cpu(0)], epoch_size=None,\n",
      "      initializer=<mxnet.initializer.Uniform object at 0x7f98f87efe50>,\n",
      "      num_epoch=None, numpy_batch_size=128, optimizer='sgd',\n",
      "      symbol=<mxnet.symbol.Symbol object at 0x7f98f85a9d50>)\n"
     ]
    }
   ],
   "source": [
    "print m"
   ]
  }
 ],
 "metadata": {
  "kernelspec": {
   "display_name": "Python 2",
   "language": "python",
   "name": "python2"
  },
  "language_info": {
   "codemirror_mode": {
    "name": "ipython",
    "version": 2
   },
   "file_extension": ".py",
   "mimetype": "text/x-python",
   "name": "python",
   "nbconvert_exporter": "python",
   "pygments_lexer": "ipython2",
   "version": "2.7.6"
  }
 },
 "nbformat": 4,
 "nbformat_minor": 0
}
