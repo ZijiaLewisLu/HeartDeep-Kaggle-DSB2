{
 "cells": [
  {
   "cell_type": "code",
   "execution_count": 2,
   "metadata": {
    "collapsed": false,
    "scrolled": false
   },
   "outputs": [],
   "source": [
    "import mxnet as mx\n",
    "import minpy as mp\n",
    "import numpy as np\n",
    "# import minpy.numpy.random as random\n",
    "# import minpy.core as core"
   ]
  },
  {
   "cell_type": "code",
   "execution_count": 5,
   "metadata": {
    "collapsed": false
   },
   "outputs": [],
   "source": [
    "# ds = np.zeros((1,1,256,256))\n",
    "# ds_label = np.zeros()\n",
    "data = mx.sym.Variable(name = 'X')\n",
    "conv1 = mx.sym.Convolution(name = 'conv1', data=data, kernel=(5,5),num_filter=100,stride=(2,2),pad=(5,5))\n"
   ]
  },
  {
   "cell_type": "code",
   "execution_count": 4,
   "metadata": {
    "collapsed": false
   },
   "outputs": [
    {
     "name": "stdout",
     "output_type": "stream",
     "text": [
      "<type 'numpy.ndarray'>\n"
     ]
    }
   ],
   "source": [
    "print type(ds)"
   ]
  },
  {
   "cell_type": "code",
   "execution_count": 7,
   "metadata": {
    "collapsed": false
   },
   "outputs": [],
   "source": [
    "m = mx.model.FeedForward()#name"
   ]
  },
  {
   "cell_type": "code",
   "execution_count": 8,
   "metadata": {
    "collapsed": false
   },
   "outputs": [
    {
     "name": "stdout",
     "output_type": "stream",
     "text": [
      "FeedForward(allow_extra_params=False, arg_params=None, aux_params=None,\n",
      "      begin_epoch=0, ctx=[cpu(0)], epoch_size=None,\n",
      "      initializer=<mxnet.initializer.Uniform object at 0x7f98f87efe50>,\n",
      "      num_epoch=None, numpy_batch_size=128, optimizer='sgd',\n",
      "      symbol=<mxnet.symbol.Symbol object at 0x7f98f85a9d50>)\n"
     ]
    }
   ],
   "source": [
    "print m"
   ]
  }
 ],
 "metadata": {
  "kernelspec": {
   "display_name": "Python 2",
   "language": "python",
   "name": "python2"
  },
  "language_info": {
   "codemirror_mode": {
    "name": "ipython",
    "version": 2
   },
   "file_extension": ".py",
   "mimetype": "text/x-python",
   "name": "python",
   "nbconvert_exporter": "python",
   "pygments_lexer": "ipython2",
   "version": "2.7.6"
  }
 },
 "nbformat": 4,
 "nbformat_minor": 0
}
