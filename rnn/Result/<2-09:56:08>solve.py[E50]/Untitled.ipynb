{
 "cells": [
  {
   "cell_type": "code",
   "execution_count": 1,
   "metadata": {
    "collapsed": true
   },
   "outputs": [],
   "source": [
    "log = open('./LOG.txt','r')\n",
    "lines = log.readlines()"
   ]
  },
  {
   "cell_type": "code",
   "execution_count": 2,
   "metadata": {
    "collapsed": false
   },
   "outputs": [
    {
     "name": "stdout",
     "output_type": "stream",
     "text": [
      "INFO:<2-09:56:08>solve.py\n",
      "\n",
      "INFO:Auto-select kvstore type = local_update_cpu\n",
      "\n",
      "INFO:Start training with [gpu(0), gpu(1)]\n",
      "\n",
      "INFO:Epoch[0] Time cost=421.632\n",
      "\n",
      "INFO:Epoch[0] T acc: 0.047689\n",
      "\n",
      "INFO:E[0] V eval:0.053150\n",
      "\n",
      "INFO:Epoch[1] Time cost=419.010\n",
      "\n",
      "INFO:Epoch[1] T acc: 0.043209\n",
      "\n",
      "INFO:E[1] V eval:0.051106\n",
      "\n",
      "INFO:Epoch[2] Time cost=418.179\n",
      "\n",
      "INFO:Epoch[2] T acc: 0.043065\n",
      "\n",
      "INFO:E[2] V eval:0.016403\n",
      "\n",
      "INFO:Epoch[3] Time cost=297.355\n",
      "\n",
      "INFO:Epoch[3] T acc: 0.043035\n",
      "\n",
      "INFO:E[3] V eval:0.027627\n",
      "\n",
      "INFO:Epoch[4] Time cost=278.778\n",
      "\n",
      "INFO:Epoch[4] T acc: 0.043023\n",
      "\n",
      "INFO:E[4] V eval:0.034904\n",
      "\n",
      "INFO:Epoch[5] Time cost=278.102\n",
      "\n",
      "INFO:Epoch[5] T acc: 0.043018\n",
      "\n",
      "INFO:E[5] V eval:0.049664\n",
      "\n",
      "INFO:Epoch[6] Time cost=280.601\n",
      "\n",
      "INFO:Epoch[6] T acc: 0.043017\n",
      "\n",
      "INFO:E[6] V eval:0.049691\n",
      "\n"
     ]
    }
   ],
   "source": [
    "for l in lines:\n",
    "    if l.startswith('INFO'):\n",
    "        print l"
   ]
  }
 ],
 "metadata": {
  "kernelspec": {
   "display_name": "Python 2",
   "language": "python",
   "name": "python2"
  },
  "language_info": {
   "codemirror_mode": {
    "name": "ipython",
    "version": 2
   },
   "file_extension": ".py",
   "mimetype": "text/x-python",
   "name": "python",
   "nbconvert_exporter": "python",
   "pygments_lexer": "ipython2",
   "version": "2.7.6"
  }
 },
 "nbformat": 4,
 "nbformat_minor": 0
}
