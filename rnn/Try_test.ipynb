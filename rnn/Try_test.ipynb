{
 "cells": [
  {
   "cell_type": "code",
   "execution_count": 4,
   "metadata": {
    "collapsed": false
   },
   "outputs": [
    {
     "name": "stdout",
     "output_type": "stream",
     "text": [
      "<type 'generator'>\n",
      "0\n",
      "1\n"
     ]
    }
   ],
   "source": [
    "def gen():\n",
    "    for i in range(100):\n",
    "        yield i\n",
    "\n",
    "d = gen()\n",
    "print type(d)\n",
    "print next(d)\n",
    "print next(d)"
   ]
  },
  {
   "cell_type": "code",
   "execution_count": 2,
   "metadata": {
    "collapsed": false
   },
   "outputs": [],
   "source": [
    "import ipt\n",
    "import mxnet as mx\n",
    "import mxnet.symbol as S"
   ]
  },
  {
   "cell_type": "code",
   "execution_count": 5,
   "metadata": {
    "collapsed": false
   },
   "outputs": [
    {
     "name": "stdout",
     "output_type": "stream",
     "text": [
      "[(10L, 1L, 256L, 256L), (10L, 1L, 256L, 256L), (10L, 1L, 256L, 256L), (10L, 1L, 256L, 256L)]\n"
     ]
    },
    {
     "ename": "AssertionError",
     "evalue": "",
     "output_type": "error",
     "traceback": [
      "\u001b[0;31m---------------------------------------------------------------------------\u001b[0m",
      "\u001b[0;31mAssertionError\u001b[0m                            Traceback (most recent call last)",
      "\u001b[0;32m<ipython-input-5-066276a2b766>\u001b[0m in \u001b[0;36m<module>\u001b[0;34m()\u001b[0m\n\u001b[1;32m     15\u001b[0m \u001b[0;34m\u001b[0m\u001b[0m\n\u001b[1;32m     16\u001b[0m \u001b[0;32mprint\u001b[0m \u001b[0mslice_gates\u001b[0m\u001b[0;34m.\u001b[0m\u001b[0minfer_shape\u001b[0m\u001b[0;34m(\u001b[0m\u001b[0mdata\u001b[0m\u001b[0;34m=\u001b[0m\u001b[0;34m(\u001b[0m\u001b[0;36m10\u001b[0m\u001b[0;34m,\u001b[0m\u001b[0;36m1\u001b[0m\u001b[0;34m,\u001b[0m\u001b[0;36m256\u001b[0m\u001b[0;34m,\u001b[0m\u001b[0;36m256\u001b[0m\u001b[0;34m)\u001b[0m\u001b[0;34m,\u001b[0m \u001b[0mhidden\u001b[0m\u001b[0;34m=\u001b[0m\u001b[0;34m(\u001b[0m\u001b[0;36m10\u001b[0m\u001b[0;34m,\u001b[0m\u001b[0;36m1\u001b[0m\u001b[0;34m,\u001b[0m\u001b[0;36m256\u001b[0m\u001b[0;34m,\u001b[0m\u001b[0;36m256\u001b[0m\u001b[0;34m)\u001b[0m\u001b[0;34m)\u001b[0m\u001b[0;34m[\u001b[0m\u001b[0;36m1\u001b[0m\u001b[0;34m]\u001b[0m\u001b[0;34m\u001b[0m\u001b[0m\n\u001b[0;32m---> 17\u001b[0;31m \u001b[0;32massert\u001b[0m \u001b[0mFalse\u001b[0m\u001b[0;34m\u001b[0m\u001b[0m\n\u001b[0m\u001b[1;32m     18\u001b[0m \u001b[0;34m\u001b[0m\u001b[0m\n\u001b[1;32m     19\u001b[0m \u001b[0;34m\u001b[0m\u001b[0m\n",
      "\u001b[0;31mAssertionError\u001b[0m: "
     ]
    }
   ],
   "source": [
    "data   = S.Variable('data')\n",
    "hidden = S.Variable('hidden')\n",
    "i2h = mx.sym.Convolution(data=data, \n",
    "                                #weight=param.i2h_weight,\n",
    "                                #bias=param.i2h_bias,\n",
    "                                num_filter= 4,\n",
    "                                kernel=(5,5), pad=(2,2))\n",
    "h2h = mx.sym.Convolution(data=hidden,\n",
    "                            # weight=param.h2h_weight,\n",
    "                            # bias=param.h2h_bias,\n",
    "                            num_filter= 4,\n",
    "                            kernel=(5,5), pad=(2,2))\n",
    "gates = i2h + h2h\n",
    "slice_gates = mx.sym.SliceChannel(gates, num_outputs=4)\n",
    "\n",
    "print slice_gates.infer_shape(data=(10,1,256,256), hidden=(10,1,256,256))[1]\n",
    "assert False\n",
    "\n",
    "\n",
    "in_gate = mx.sym.Activation(slice_gates[0], act_type=\"sigmoid\")\n",
    "in_transform = mx.sym.Activation(slice_gates[1], act_type=\"tanh\")\n",
    "forget_gate = mx.sym.Activation(slice_gates[2], act_type=\"sigmoid\")\n",
    "out_gate = mx.sym.Activation(slice_gates[3], act_type=\"sigmoid\")\n",
    "next_c = (forget_gate * prev_state.c) + (in_gate * in_transform)\n",
    "next_h = out_gate * mx.sym.Activation(next_c, act_type=\"tanh\")"
   ]
  },
  {
   "cell_type": "code",
   "execution_count": null,
   "metadata": {
    "collapsed": true
   },
   "outputs": [],
   "source": []
  }
 ],
 "metadata": {
  "kernelspec": {
   "display_name": "Python 2",
   "language": "python",
   "name": "python2"
  },
  "language_info": {
   "codemirror_mode": {
    "name": "ipython",
    "version": 2
   },
   "file_extension": ".py",
   "mimetype": "text/x-python",
   "name": "python",
   "nbconvert_exporter": "python",
   "pygments_lexer": "ipython2",
   "version": "2.7.6"
  }
 },
 "nbformat": 4,
 "nbformat_minor": 0
}
