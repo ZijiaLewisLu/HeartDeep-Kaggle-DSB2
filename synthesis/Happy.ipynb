{
 "cells": [
  {
   "cell_type": "code",
   "execution_count": 1,
   "metadata": {
    "collapsed": false
   },
   "outputs": [],
   "source": [
    "import ipt\n",
    "import mxnet as mx\n",
    "from rnn.rnn_solver import Solver\n",
    "import my_utils as mu\n",
    "import os\n",
    "import pickle as pk\n",
    "import matplotlib.pyplot as plt\n",
    "%matplotlib inline\n",
    "\n",
    "PARAMS={\n",
    "    'ctx':mu.gpu(2),\n",
    "    'learning_rate':1,\n",
    "    'num_epoch':10,\n",
    "    #'optimizer':'adam',\n",
    "    'initializer':mx.initializer.Xavier(rnd_type='gaussian'),\n",
    "    #'wd':1,\n",
    "}\n",
    "\n",
    "SOLVE = {\n",
    "    'save_best':True,\n",
    "    'is_rnn'   :False,  \n",
    "}\n",
    "\n",
    "\n",
    "import logging \n",
    "logger = logging.getLogger()\n",
    "logger.setLevel(logging.INFO)\n",
    "#st = logging.StreamHandler()\n",
    "#logger.addHandler(st)"
   ]
  },
  {
   "cell_type": "code",
   "execution_count": null,
   "metadata": {
    "collapsed": false
   },
   "outputs": [],
   "source": [
    "small_files = ['[T30,N10]<6-11:28:45>.pk']\n",
    "all_files   = ['[T30,N10]<26-10:45:25>.pk','[T30,N10]<26-10:55:08>.pk','[T30,N10]<26-10:55:20>.pk',\n",
    "               '[T30,N10]<26-10:55:48>.pk','[T30,N10]<26-10:55:59>.pk','[T30,N10]<26-10:56:37>.pk',\n",
    "               '[T30,N10]<26-10:56:53>.pk','[T30,N10]<5-05:06:57>.pk']\n",
    "\n",
    "def get_data( net_type, batch_size,\n",
    "                 init_states = (), splite_rate=0.1, small=False):\n",
    "    if small:\n",
    "        files = small_files\n",
    "    else:\n",
    "        files = all_files\n",
    "    \n",
    "    files = [ os.path.join('/home/zijia/HeartDeepLearning/DATA/PK/NEW', f) for f in files ]\n",
    "    \n",
    "    from RNN.rnn_load import load_rnn_pk\n",
    "    \n",
    "    imgs, labels = load_rnn_pk(files)\n",
    "    \n",
    "    data_list = mu.prepare_set(imgs, labels, rate=splite_rate)\n",
    "\n",
    "    if net_type == 'c':\n",
    "        img_shape = data_list[0].shape[2:]\n",
    "        data_list = [ d.reshape( (-1,)+img_shape ) for d in data_list]\n",
    "        \n",
    "        train, val = mu.create_iter( *data_list, batch_size=batch_size)\n",
    "        \n",
    "        return train, val\n",
    "\n",
    "    elif net_type == 'r':\n",
    "        \n",
    "        from rnn.rnn_iter import RIter\n",
    "        train = RIter( data_list[0], init_states, \n",
    "                      label=data_list[1], batch_size=batch_size, last_batch_handle='pad')\n",
    "        \n",
    "        val   = RIter( data_list[2], init_states,\n",
    "                     label=data_list[3],  batch_size=batch_size, last_batch_handle='pad')\n",
    "        \n",
    "        return train, val\n",
    "        \n",
    "    \n",
    "# get_data('r', 1, small=True)  "
   ]
  },
  {
   "cell_type": "markdown",
   "metadata": {},
   "source": [
    "# test on pure CNN and Fully"
   ]
  },
  {
   "cell_type": "code",
   "execution_count": null,
   "metadata": {
    "collapsed": false
   },
   "outputs": [
    {
     "name": "stdout",
     "output_type": "stream",
     "text": [
      "Substract Mean\n",
      "SOLVE {'is_rnn': False, 'save_best': True, 'name': 'CF'}\n",
      "param {'eval_data': <mxnet.io.NDArrayIter object at 0x7f50abe1a390>, 'learning_rate': 1, 'num_epoch': 20, 'ctx': [gpu(0), gpu(3)], 'initializer': <mxnet.initializer.Xavier object at 0x7f50b9f1fd90>}\n",
      "INFO:<6-02:03:43>CF\n",
      "INFO:Auto-select kvstore type = local_update_cpu\n",
      "INFO:Start training with [gpu(0), gpu(3)]\n",
      "INFO:Epoch[0] Time cost=340.919\n",
      "INFO:Epoch[0] T acc: 0.431287\n",
      "INFO:E[0] V eval:0.563020\n",
      "INFO:Epoch[1] Time cost=339.052\n",
      "INFO:Epoch[1] T acc: 0.720911\n",
      "INFO:E[1] V eval:0.670841\n",
      "INFO:Epoch[3] Time cost=327.056\n",
      "INFO:Epoch[3] T acc: 0.845662\n",
      "INFO:Epoch[16] Time cost=364.479\n",
      "INFO:Epoch[16] T acc: 0.945396\n",
      "INFO:E[16] V eval:0.786019\n",
      "INFO:Epoch[17] Time cost=358.406\n",
      "INFO:Epoch[17] T acc: 0.945014\n",
      "INFO:E[17] V eval:0.795241\n",
      "INFO:Epoch[18] Time cost=367.230\n",
      "INFO:Epoch[18] T acc: 0.947234\n",
      "INFO:E[18] V eval:0.789702\n",
      "INFO:Epoch[19] Time cost=368.515\n",
      "INFO:Epoch[19] T acc: 0.949984\n",
      "INFO:E[19] V eval:0.803048\n"
     ]
    },
    {
     "data": {
      "image/png": "[encoded data removed]",
      "text/plain": [
       "<matplotlib.figure.Figure at 0x7f5130897a10>"
      ]
     },
     "metadata": {},
     "output_type": "display_data"
    },
    {
     "name": "stdout",
     "output_type": "stream",
     "text": [
      "INFO:Saved checkpoint to \"Result/<6-02:03:43>CF[E20]/[ACC-0.94998 E19]-0019.params\"\n"
     ]
    }
   ],
   "source": [
    "from CNN.cnn import cnn_net\n",
    "\n",
    "def cf_train( sv=SOLVE, param=PARAMS ):\n",
    "    net = cnn_net()\n",
    "    train, val = get_data('c', 2, small=False)\n",
    "\n",
    "    sv['name'] = 'CF'\n",
    "    sv['is_rnn'] = False\n",
    "    param['eval_data'] = val \n",
    "    param['num_epoch'] = 20\n",
    "    \n",
    "    print 'SOLVE',sv\n",
    "    print 'param',param\n",
    "    s = Solver(net, train, sv, **param)\n",
    "    s.train()\n",
    "    s.predict()\n",
    "    \n",
    "    return s\n",
    "\n",
    "s = cf_train()"
   ]
  },
  {
   "cell_type": "code",
   "execution_count": null,
   "metadata": {
    "collapsed": false,
    "scrolled": false
   },
   "outputs": [],
   "source": []
  }
 ],
 "metadata": {
  "kernelspec": {
   "display_name": "Python 2",
   "language": "python",
   "name": "python2"
  },
  "language_info": {
   "codemirror_mode": {
    "name": "ipython",
    "version": 2
   },
   "file_extension": ".py",
   "mimetype": "text/x-python",
   "name": "python",
   "nbconvert_exporter": "python",
   "pygments_lexer": "ipython2",
   "version": "2.7.6"
  }
 },
 "nbformat": 4,
 "nbformat_minor": 0
}
