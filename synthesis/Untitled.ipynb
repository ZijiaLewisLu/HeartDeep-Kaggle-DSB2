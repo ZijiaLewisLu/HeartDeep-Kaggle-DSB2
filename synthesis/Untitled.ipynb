{
 "cells": [
  {
   "cell_type": "code",
   "execution_count": 2,
   "metadata": {
    "collapsed": false
   },
   "outputs": [
    {
     "name": "stdout",
     "output_type": "stream",
     "text": [
      "Substract Mean\n"
     ]
    }
   ],
   "source": [
    "%load_ext autoreload\n",
    "%autoreload 2\n",
    "import ipt\n",
    "import numpy as np\n",
    "import mxnet as mx\n",
    "\n",
    "import my_utils as mu\n",
    "# from rnn.rnn_solver import Solver\n",
    "from c_lstm import lstm_unroll\n",
    "\n",
    "from tools import get_data\n",
    "\n",
    "batch_size = 1\n",
    "num_lstm_layer = 1\n",
    "num_hidden = 400\n",
    "small = True\n",
    "\n",
    "# prepare data\n",
    "init_c = [('l%d_init_c'%l, (batch_size, num_hidden)) for l in range(num_lstm_layer)]\n",
    "init_h = [('l%d_init_h'%l, (batch_size, num_hidden)) for l in range(num_lstm_layer)]\n",
    "init_states = init_c + init_h\n",
    "data_train, data_val = get_data('r', batch_size, \n",
    "                init_states=init_states, small=small)\n",
    "\n",
    "shapes = data_train.provide_data + data_train.provide_label\n",
    "\n"
   ]
  },
  {
   "cell_type": "code",
   "execution_count": 8,
   "metadata": {
    "collapsed": false,
    "scrolled": true
   },
   "outputs": [
    {
     "name": "stdout",
     "output_type": "stream",
     "text": [
      "([(1L, 4L, 1L, 256L, 256L), (8L, 1L, 7L, 7L), (8L,), (8L,), (8L,), (16L, 8L, 3L, 3L), (16L,), (16L,), (16L,), (32L, 16L, 3L, 3L), (32L,), (32L,), (32L,), (64L, 32L, 3L, 3L), (64L,), (64L,), (64L,), (64L, 64L, 3L, 3L), (64L,), (64L,), (64L,), (64L, 64L, 3L, 3L), (64L,), (64L,), (64L,), (64L, 64L, 4L, 4L), (64L, 64L, 3L, 3L), (64L,), (64L,), (64L,), (64L, 64L, 4L, 4L), (64L, 64L, 7L, 7L), (64L,), (64L,), (64L,), (64L, 32L, 4L, 4L), (16L, 32L, 3L, 3L), (16L,), (16L,), (16L,), (1L, 16L, 7L, 7L), (1L,), (1L,), (1L,), (1600L, 65536L), (1600L,), (1L, 400L), (1600L, 400L), (1600L,), (1L, 400L), (65536L, 400L), (65536L,), (1L, 4L, 1L, 256L, 256L)], [(1L, 1L, 256L, 256L), (1L, 1L, 256L, 256L), (1L, 1L, 256L, 256L), (1L, 1L, 256L, 256L)], [(8L,), (8L,), (16L,), (16L,), (32L,), (32L,), (64L,), (64L,), (64L,), (64L,), (64L,), (64L,), (64L,), (64L,), (64L,), (64L,), (16L,), (16L,), (1L,), (1L,), (8L,), (8L,), (16L,), (16L,), (32L,), (32L,), (64L,), (64L,), (64L,), (64L,), (64L,), (64L,), (64L,), (64L,), (64L,), (64L,), (16L,), (16L,), (1L,), (1L,), (8L,), (8L,), (16L,), (16L,), (32L,), (32L,), (64L,), (64L,), (64L,), (64L,), (64L,), (64L,), (64L,), (64L,), (64L,), (64L,), (16L,), (16L,), (1L,), (1L,), (8L,), (8L,), (16L,), (16L,), (32L,), (32L,), (64L,), (64L,), (64L,), (64L,), (64L,), (64L,), (64L,), (64L,), (64L,), (64L,), (16L,), (16L,), (1L,), (1L,)])\n"
     ]
    }
   ],
   "source": [
    "in_shapes = dict(data_train.provide_data+ data_train.provide_label)\n",
    "# in_shapes.pop('softmax_label')\n",
    "sym = lstm_unroll(1, 4, num_hidden, shapes = {'data': (1, 4, 1, 256, 256)})\n",
    "print sym.infer_shape(**in_shapes)"
   ]
  },
  {
   "cell_type": "code",
   "execution_count": 10,
   "metadata": {
    "collapsed": true
   },
   "outputs": [],
   "source": [
    "import matplotlib\n",
    "matplotlib.use('Agg')\n",
    "import matplotlib.pyplot as plt\n"
   ]
  },
  {
   "cell_type": "code",
   "execution_count": 12,
   "metadata": {
    "collapsed": true
   },
   "outputs": [],
   "source": [
    "import os\n",
    "plt.clf()"
   ]
  }
 ],
 "metadata": {
  "kernelspec": {
   "display_name": "Python 2",
   "language": "python",
   "name": "python2"
  },
  "language_info": {
   "codemirror_mode": {
    "name": "ipython",
    "version": 2
   },
   "file_extension": ".py",
   "mimetype": "text/x-python",
   "name": "python",
   "nbconvert_exporter": "python",
   "pygments_lexer": "ipython2",
   "version": "2.7.6"
  }
 },
 "nbformat": 4,
 "nbformat_minor": 0
}
